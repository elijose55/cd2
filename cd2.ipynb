{
 "cells": [
  {
   "cell_type": "markdown",
   "metadata": {},
   "source": [
    "# Projeto 2 - CD \n",
    "Eli Jose, Pedro Greco, Eduardo Vaz"
   ]
  },
  {
   "cell_type": "code",
   "execution_count": 17,
   "metadata": {},
   "outputs": [],
   "source": [
    "import math\n",
    "import os.path\n",
    "import pandas as pd\n",
    "import matplotlib.pyplot as plt\n",
    "from sklearn import preprocessing\n",
    "import matplotlib.pyplot as plt \n",
    "plt.rc(\"font\", size=14)\n",
    "from sklearn.linear_model import LogisticRegression\n",
    "from sklearn.cross_validation import train_test_split\n",
    "import seaborn as sns\n",
    "import numpy as np\n",
    "import pandas as pd\n",
    "import statsmodels.api as sm\n",
    "import matplotlib.pyplot as plt\n",
    "from patsy import dmatrices\n",
    "from sklearn.linear_model import LogisticRegression\n",
    "from sklearn.cross_validation import train_test_split\n",
    "from sklearn import metrics\n",
    "from sklearn.cross_validation import cross_val_score"
   ]
  },
  {
   "cell_type": "code",
   "execution_count": 18,
   "metadata": {},
   "outputs": [
    {
     "data": {
      "text/html": [
       "<div>\n",
       "<table border=\"1\" class=\"dataframe\">\n",
       "  <thead>\n",
       "    <tr style=\"text-align: right;\">\n",
       "      <th></th>\n",
       "      <th>satisfacao</th>\n",
       "      <th>evaluacao</th>\n",
       "      <th>projetos</th>\n",
       "      <th>hrsmedia</th>\n",
       "      <th>tempogasto</th>\n",
       "      <th>acidentes</th>\n",
       "      <th>saiu</th>\n",
       "      <th>promocoes</th>\n",
       "      <th>setor</th>\n",
       "      <th>salario</th>\n",
       "    </tr>\n",
       "  </thead>\n",
       "  <tbody>\n",
       "    <tr>\n",
       "      <th>0</th>\n",
       "      <td>0.38</td>\n",
       "      <td>0.53</td>\n",
       "      <td>2</td>\n",
       "      <td>157</td>\n",
       "      <td>3</td>\n",
       "      <td>0</td>\n",
       "      <td>1</td>\n",
       "      <td>0</td>\n",
       "      <td>0</td>\n",
       "      <td>0</td>\n",
       "    </tr>\n",
       "    <tr>\n",
       "      <th>1</th>\n",
       "      <td>0.80</td>\n",
       "      <td>0.86</td>\n",
       "      <td>5</td>\n",
       "      <td>262</td>\n",
       "      <td>6</td>\n",
       "      <td>0</td>\n",
       "      <td>1</td>\n",
       "      <td>0</td>\n",
       "      <td>0</td>\n",
       "      <td>1</td>\n",
       "    </tr>\n",
       "    <tr>\n",
       "      <th>2</th>\n",
       "      <td>0.11</td>\n",
       "      <td>0.88</td>\n",
       "      <td>7</td>\n",
       "      <td>272</td>\n",
       "      <td>4</td>\n",
       "      <td>0</td>\n",
       "      <td>1</td>\n",
       "      <td>0</td>\n",
       "      <td>0</td>\n",
       "      <td>1</td>\n",
       "    </tr>\n",
       "    <tr>\n",
       "      <th>3</th>\n",
       "      <td>0.72</td>\n",
       "      <td>0.87</td>\n",
       "      <td>5</td>\n",
       "      <td>223</td>\n",
       "      <td>5</td>\n",
       "      <td>0</td>\n",
       "      <td>1</td>\n",
       "      <td>0</td>\n",
       "      <td>0</td>\n",
       "      <td>0</td>\n",
       "    </tr>\n",
       "    <tr>\n",
       "      <th>4</th>\n",
       "      <td>0.37</td>\n",
       "      <td>0.52</td>\n",
       "      <td>2</td>\n",
       "      <td>159</td>\n",
       "      <td>3</td>\n",
       "      <td>0</td>\n",
       "      <td>1</td>\n",
       "      <td>0</td>\n",
       "      <td>0</td>\n",
       "      <td>0</td>\n",
       "    </tr>\n",
       "  </tbody>\n",
       "</table>\n",
       "</div>"
      ],
      "text/plain": [
       "   satisfacao  evaluacao  projetos  hrsmedia  tempogasto  acidentes  saiu  \\\n",
       "0        0.38       0.53         2       157           3          0     1   \n",
       "1        0.80       0.86         5       262           6          0     1   \n",
       "2        0.11       0.88         7       272           4          0     1   \n",
       "3        0.72       0.87         5       223           5          0     1   \n",
       "4        0.37       0.52         2       159           3          0     1   \n",
       "\n",
       "   promocoes setor salario  \n",
       "0          0     0       0  \n",
       "1          0     0       1  \n",
       "2          0     0       1  \n",
       "3          0     0       0  \n",
       "4          0     0       0  "
      ]
     },
     "execution_count": 18,
     "metadata": {},
     "output_type": "execute_result"
    }
   ],
   "source": [
    "data = pd.read_csv('dd1.csv',sep=',')\n",
    "data = data.rename(columns = {'satisfaction_level':'satisfacao'})\n",
    "data = data.rename(columns = {'last_evaluation':'evaluacao'})\n",
    "data = data.rename(columns = {'number_project':'projetos'})\n",
    "data = data.rename(columns = {'average_montly_hours':'hrsmedia'})\n",
    "data = data.rename(columns = {'time_spend_company':'tempogasto'})\n",
    "data = data.rename(columns = {'left':'saiu'})\n",
    "data = data.rename(columns = {'promotion_last_5years':'promocoes'})\n",
    "data = data.rename(columns = {'sales':'setor'})\n",
    "data = data.rename(columns = {'salary':'salario'})\n",
    "data = data.rename(columns = {'Work_accident':'acidentes'})\n",
    "\n",
    "\n",
    "\n",
    "data['salario'].astype(str)\n",
    "\n",
    "data.loc[(data.salario== 'low'), 'salario'] = 0\n",
    "data.loc[(data.salario== 'medium'), 'salario'] = 1\n",
    "data.loc[(data.salario== 'high'), 'salario'] = 2\n",
    "\n",
    "data['setor'].astype(str)\n",
    "\n",
    "data.loc[(data.setor== 'sales'), 'setor'] = 0\n",
    "data.loc[(data.setor== 'accounting'), 'setor'] = 1\n",
    "data.loc[(data.setor== 'hr'), 'setor'] = 2\n",
    "data.loc[(data.setor== 'technical'), 'setor'] = 3\n",
    "data.loc[(data.setor== 'support'), 'setor'] = 4\n",
    "data.loc[(data.setor== 'management'), 'setor'] = 5\n",
    "data.loc[(data.setor== 'technical'), 'setor'] = 6\n",
    "data.loc[(data.setor== 'IT'), 'setor'] = 7\n",
    "data.loc[(data.setor== 'product_mng'), 'setor'] = 8\n",
    "data.loc[(data.setor== 'marketing'), 'setor'] = 9\n",
    "\n",
    "data.head()\n",
    "\n",
    "##codigo da tecnica a ser utilizada sera retirado dos seguintes websites com tutoriais:\n",
    "\n",
    "##    https://towardsdatascience.com/building-a-logistic-regression-in-python-step-by-step-becd4d56c9c8\n",
    "##    http://www.dummies.com/programming/big-data/data-science/using-logistic-regression-in-python-for-data-science/\n",
    "##    http://dataaspirant.com/2017/04/15/implement-logistic-regression-model-python-binary-classification/"
   ]
  },
  {
   "cell_type": "code",
   "execution_count": null,
   "metadata": {
    "collapsed": true
   },
   "outputs": [],
   "source": []
  },
  {
   "cell_type": "code",
   "execution_count": 19,
   "metadata": {},
   "outputs": [
    {
     "name": "stdout",
     "output_type": "stream",
     "text": [
      "Index(['Intercept', 'C(setor)[T.1]', 'C(setor)[T.2]', 'C(setor)[T.3]',\n",
      "       'C(setor)[T.4]', 'C(setor)[T.5]', 'C(setor)[T.7]', 'C(setor)[T.8]',\n",
      "       'C(setor)[T.9]', 'C(setor)[T.RandD]', 'C(salario)[T.1]',\n",
      "       'C(salario)[T.2]', 'satisfacao', 'evaluacao', 'projetos', 'hrsmedia',\n",
      "       'tempogasto', 'acidentes', 'promocoes'],\n",
      "      dtype='object')\n"
     ]
    }
   ],
   "source": [
    "# create dataframes with an intercept column and dummy variables for\n",
    "# occupation and occupation_husb\n",
    "\n",
    "\n",
    "y, X = dmatrices('saiu ~ satisfacao + evaluacao + projetos + hrsmedia + \\\n",
    "                  tempogasto + acidentes + promocoes + C(setor) + C(salario)',\n",
    "                  data, return_type=\"dataframe\")\n",
    "\n",
    "\n",
    "\n",
    "print (X.columns)"
   ]
  },
  {
   "cell_type": "code",
   "execution_count": 20,
   "metadata": {
    "collapsed": true
   },
   "outputs": [],
   "source": [
    "# fix column names of X\n",
    "X = X.rename(columns = {'C(setor)[T.1]':'occ_1',\n",
    "                        'C(setor)[T.2]':'occ_2',\n",
    "                        'C(setor)[T.3]':'occ_3',\n",
    "                        'C(setor)[T.4]':'occ_4',\n",
    "                        'C(setor)[T.5]':'occ_5',\n",
    "                        'C(setor)[T.6]':'occ_6',\n",
    "                        'C(setor)[T.7]':'occ_7',\n",
    "                        'C(setor)[T.8]':'occ_8',\n",
    "                        'C(setor)[T.9]':'occ_9',\n",
    "                        'C(salario)[T.1]':'occ_husb_1',\n",
    "                        'C(salario)[T.2]':'occ_husb_2'})"
   ]
  },
  {
   "cell_type": "code",
   "execution_count": 21,
   "metadata": {
    "collapsed": true
   },
   "outputs": [],
   "source": [
    "# flatten y into a 1-D array\n",
    "y = np.ravel(y)"
   ]
  },
  {
   "cell_type": "code",
   "execution_count": 22,
   "metadata": {},
   "outputs": [
    {
     "data": {
      "text/plain": [
       "0.7918527901860124"
      ]
     },
     "execution_count": 22,
     "metadata": {},
     "output_type": "execute_result"
    }
   ],
   "source": [
    "# instantiate a logistic regression model, and fit with X and y\n",
    "model = LogisticRegression()\n",
    "model = model.fit(X, y)\n",
    "\n",
    "# check the accuracy on the training set\n",
    "model.score(X, y)"
   ]
  },
  {
   "cell_type": "code",
   "execution_count": 23,
   "metadata": {},
   "outputs": [
    {
     "data": {
      "text/plain": [
       "0.2380825388359224"
      ]
     },
     "execution_count": 23,
     "metadata": {},
     "output_type": "execute_result"
    }
   ],
   "source": [
    "#qual porcentagem real saiu da empresa\n",
    "y.mean()"
   ]
  },
  {
   "cell_type": "code",
   "execution_count": 24,
   "metadata": {},
   "outputs": [
    {
     "data": {
      "text/html": [
       "<div>\n",
       "<table border=\"1\" class=\"dataframe\">\n",
       "  <thead>\n",
       "    <tr style=\"text-align: right;\">\n",
       "      <th></th>\n",
       "      <th>0</th>\n",
       "      <th>1</th>\n",
       "    </tr>\n",
       "  </thead>\n",
       "  <tbody>\n",
       "    <tr>\n",
       "      <th>0</th>\n",
       "      <td>Intercept</td>\n",
       "      <td>[0.202106721873]</td>\n",
       "    </tr>\n",
       "    <tr>\n",
       "      <th>1</th>\n",
       "      <td>occ_1</td>\n",
       "      <td>[0.0382436858803]</td>\n",
       "    </tr>\n",
       "    <tr>\n",
       "      <th>2</th>\n",
       "      <td>occ_2</td>\n",
       "      <td>[0.273386405454]</td>\n",
       "    </tr>\n",
       "    <tr>\n",
       "      <th>3</th>\n",
       "      <td>occ_3</td>\n",
       "      <td>[0.10393641961]</td>\n",
       "    </tr>\n",
       "    <tr>\n",
       "      <th>4</th>\n",
       "      <td>occ_4</td>\n",
       "      <td>[0.0897342147021]</td>\n",
       "    </tr>\n",
       "    <tr>\n",
       "      <th>5</th>\n",
       "      <td>occ_5</td>\n",
       "      <td>[-0.409141217242]</td>\n",
       "    </tr>\n",
       "    <tr>\n",
       "      <th>6</th>\n",
       "      <td>occ_7</td>\n",
       "      <td>[-0.144337211394]</td>\n",
       "    </tr>\n",
       "    <tr>\n",
       "      <th>7</th>\n",
       "      <td>occ_8</td>\n",
       "      <td>[-0.118510995584]</td>\n",
       "    </tr>\n",
       "    <tr>\n",
       "      <th>8</th>\n",
       "      <td>occ_9</td>\n",
       "      <td>[0.0188967681292]</td>\n",
       "    </tr>\n",
       "    <tr>\n",
       "      <th>9</th>\n",
       "      <td>C(setor)[T.RandD]</td>\n",
       "      <td>[-0.542570022389]</td>\n",
       "    </tr>\n",
       "    <tr>\n",
       "      <th>10</th>\n",
       "      <td>occ_husb_1</td>\n",
       "      <td>[-0.525891368939]</td>\n",
       "    </tr>\n",
       "    <tr>\n",
       "      <th>11</th>\n",
       "      <td>occ_husb_2</td>\n",
       "      <td>[-1.88917383131]</td>\n",
       "    </tr>\n",
       "    <tr>\n",
       "      <th>12</th>\n",
       "      <td>satisfacao</td>\n",
       "      <td>[-4.08868410392]</td>\n",
       "    </tr>\n",
       "    <tr>\n",
       "      <th>13</th>\n",
       "      <td>evaluacao</td>\n",
       "      <td>[0.727193927969]</td>\n",
       "    </tr>\n",
       "    <tr>\n",
       "      <th>14</th>\n",
       "      <td>projetos</td>\n",
       "      <td>[-0.311445281886]</td>\n",
       "    </tr>\n",
       "    <tr>\n",
       "      <th>15</th>\n",
       "      <td>hrsmedia</td>\n",
       "      <td>[0.00442548993282]</td>\n",
       "    </tr>\n",
       "    <tr>\n",
       "      <th>16</th>\n",
       "      <td>tempogasto</td>\n",
       "      <td>[0.265318021834]</td>\n",
       "    </tr>\n",
       "    <tr>\n",
       "      <th>17</th>\n",
       "      <td>acidentes</td>\n",
       "      <td>[-1.50732641583]</td>\n",
       "    </tr>\n",
       "    <tr>\n",
       "      <th>18</th>\n",
       "      <td>promocoes</td>\n",
       "      <td>[-1.20071792138]</td>\n",
       "    </tr>\n",
       "  </tbody>\n",
       "</table>\n",
       "</div>"
      ],
      "text/plain": [
       "                    0                   1\n",
       "0           Intercept    [0.202106721873]\n",
       "1               occ_1   [0.0382436858803]\n",
       "2               occ_2    [0.273386405454]\n",
       "3               occ_3     [0.10393641961]\n",
       "4               occ_4   [0.0897342147021]\n",
       "5               occ_5   [-0.409141217242]\n",
       "6               occ_7   [-0.144337211394]\n",
       "7               occ_8   [-0.118510995584]\n",
       "8               occ_9   [0.0188967681292]\n",
       "9   C(setor)[T.RandD]   [-0.542570022389]\n",
       "10         occ_husb_1   [-0.525891368939]\n",
       "11         occ_husb_2    [-1.88917383131]\n",
       "12         satisfacao    [-4.08868410392]\n",
       "13          evaluacao    [0.727193927969]\n",
       "14           projetos   [-0.311445281886]\n",
       "15           hrsmedia  [0.00442548993282]\n",
       "16         tempogasto    [0.265318021834]\n",
       "17          acidentes    [-1.50732641583]\n",
       "18          promocoes    [-1.20071792138]"
      ]
     },
     "execution_count": 24,
     "metadata": {},
     "output_type": "execute_result"
    }
   ],
   "source": [
    "# Checar os coeficientes entre sair da empresa e as outras variaveis\n",
    "#negativo indica que quanto maior a variavel menor a chance de sair da empresa\n",
    "#se for positivo quanto menor um menor a chance do outro\n",
    "pd.DataFrame(list(zip(X.columns, np.transpose(model.coef_))))"
   ]
  },
  {
   "cell_type": "code",
   "execution_count": 25,
   "metadata": {},
   "outputs": [
    {
     "data": {
      "text/plain": [
       "LogisticRegression(C=1.0, class_weight=None, dual=False, fit_intercept=True,\n",
       "          intercept_scaling=1, max_iter=100, multi_class='ovr', n_jobs=1,\n",
       "          penalty='l2', random_state=None, solver='liblinear', tol=0.0001,\n",
       "          verbose=0, warm_start=False)"
      ]
     },
     "execution_count": 25,
     "metadata": {},
     "output_type": "execute_result"
    }
   ],
   "source": [
    "\n",
    "# avaliar o modelo dividindo em bases de treinamento(model(criada anteriormente)) e testes (model2)\n",
    "X_train, X_test, y_train, y_test = train_test_split(X, y, test_size=0.3, random_state=0)\n",
    "model2 = LogisticRegression()\n",
    "model2.fit(X_train, y_train)"
   ]
  },
  {
   "cell_type": "code",
   "execution_count": 26,
   "metadata": {},
   "outputs": [
    {
     "name": "stdout",
     "output_type": "stream",
     "text": [
      "[[3203  259]\n",
      " [ 682  356]]\n",
      "             precision    recall  f1-score   support\n",
      "\n",
      "        0.0       0.82      0.93      0.87      3462\n",
      "        1.0       0.58      0.34      0.43      1038\n",
      "\n",
      "avg / total       0.77      0.79      0.77      4500\n",
      "\n"
     ]
    }
   ],
   "source": [
    "predicted = model2.predict(X_test)\n",
    "probs = model2.predict_proba(X_test)\n",
    "print (metrics.confusion_matrix(y_test, predicted))\n",
    "print (metrics.classification_report(y_test, predicted))"
   ]
  },
  {
   "cell_type": "code",
   "execution_count": 27,
   "metadata": {},
   "outputs": [],
   "source": [
    "#falta uma analise/explicacao das variaveis encontradas\n",
    "#falta uma explicacao de regressao logistica e como ela se aplica a esse exemplo\n",
    "#falta talvez tecnicas para melhorar a precisao do algoritimo se possivel\n",
    "#falta analise sobre a precisao do algoritimo\n",
    "#faltam alguns graficos de analise dos resultados"
   ]
  },
  {
   "cell_type": "code",
   "execution_count": null,
   "metadata": {
    "collapsed": true
   },
   "outputs": [],
   "source": []
  },
  {
   "cell_type": "code",
   "execution_count": null,
   "metadata": {
    "collapsed": true
   },
   "outputs": [],
   "source": []
  }
 ],
 "metadata": {
  "kernelspec": {
   "display_name": "Python 3",
   "language": "python",
   "name": "python3"
  },
  "language_info": {
   "codemirror_mode": {
    "name": "ipython",
    "version": 3
   },
   "file_extension": ".py",
   "mimetype": "text/x-python",
   "name": "python",
   "nbconvert_exporter": "python",
   "pygments_lexer": "ipython3",
   "version": "3.6.0"
  }
 },
 "nbformat": 4,
 "nbformat_minor": 2
}
