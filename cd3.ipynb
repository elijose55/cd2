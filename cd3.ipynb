{
 "cells": [
  {
   "cell_type": "markdown",
   "metadata": {},
   "source": [
    "# Projeto 3 - CD \n",
    "Eli Jose, Pedro Greco, Eduardo Vaz"
   ]
  },
  {
   "cell_type": "markdown",
   "metadata": {},
   "source": [
    "### Como prever e evitar de maneira mais eficiente que os funcionários de uma empresa se demitam prematuramente?"
   ]
  },
  {
   "cell_type": "markdown",
   "metadata": {},
   "source": [
    "Em muitas empresas o número de funcionários saindo prematuramente e sem motivo claro é considerável. Quando um empregado que tinha um bom histórico de trabalho e eficiencia deixa a empresa, ele atrapalha no desenvolvimento e continuidade dos processos que ele exercia. Desse modo, é de grande importância a criação de uma ferramenta que permita a realização de uma análise e predição de quais funcionários deixariam seu trabalho. Por isso, objetivo desse projeto é criar um algoritmo que exerça essa função da maneira mais precisa o possível. "
   ]
  },
  {
   "cell_type": "markdown",
   "metadata": {},
   "source": [
    "Para isso, foram utilizados conhecimentos sobre Python e sobre Regressão Linear e Logística para programar um código que consegue prever quais funcionários sairão da empresa considerando suas informações e históricos. Assim, foi utilizada uma base de dados com vários aspectos sobre cada empregado, suas características e se ele saiu da empresa ou não, para 'ensinar' o programa a conseguir prever futuras demissões próprias de funcionários."
   ]
  },
  {
   "cell_type": "markdown",
   "metadata": {},
   "source": [
    "Em aula aprendemos a lógica e explicação de Regressão Linear. Desse modo, não tinhamos conhecimentos suficientes sobre a Regressão Logística necessários para tratar esse problema. Por isso, utilizamos um tutorial sobre como montar uma regressão logística disponível em:\n",
    " http://nbviewer.jupyter.org/gist/justmarkham/6d5c061ca5aee67c4316471f8c2ae976"
   ]
  },
  {
   "cell_type": "markdown",
   "metadata": {},
   "source": [
    "##### Regressão Linear e Regressão Logística"
   ]
  },
  {
   "cell_type": "markdown",
   "metadata": {},
   "source": [
    "A regressão linear é uma equação criada a partir da relação entre duas variáveis continuas para estimar o valor esperado de uma variável y, considerando o valor de outras variáveis x. Desse modo, a regressão logistica, usada nesse projeto, seria uma equação que estimaria o valor de uma variável y, sendo está dictômica, ou seja, tem apenas dois possíveis valores, diferentemente da regressão linear em que y é continua e tem infinitos possíveis valores.\n",
    "\n",
    "Então, como neste caso o objetivo é prever se o funcionario sairá ou não da empresa (duas possibilidades) a partir de uma série de variáveis pessoais do empregado, a regressão logística foi utilizada. As variáveis x utilizadas foram as seguintes:\n",
    "\n",
    "- Nível de Satisfação do Funcionário\n",
    "- Avaliação do Funcionário\n",
    "- Número de projetos do Funcionário\n",
    "- Média de horas gastas no trabalho\n",
    "- Tempo gasto na empresa\n",
    "- Teve ou não um acidente de trabalho\n",
    "- Teve ou não uma promoção nos últimos 5 anos\n",
    "- Departamento de trabalho do Funcionário\n",
    "- Salário do Funcionário\n",
    "\n",
    "Todas essas variáveis estão presentes em um dataframe retirado de https://www.kaggle.com/ludobenistant/hr-analytics/data . Este foi utilizado como treinamento para que fossem obtidos os valores de coeficientes que permitiriam prever se o funcionário sairia da empresa ou não. Assim, ao final o algoritmo será capaz de informar se um empregado sairá ou não da empresa baseado nessas características individuais dele."
   ]
  },
  {
   "cell_type": "code",
   "execution_count": 331,
   "metadata": {
    "collapsed": true
   },
   "outputs": [],
   "source": [
    "#importação das bibliotecas necessárias\n",
    "import math\n",
    "import os.path\n",
    "import pandas as pd\n",
    "import matplotlib.pyplot as plt\n",
    "from sklearn import preprocessing\n",
    "import matplotlib.pyplot as plt \n",
    "import numpy as np\n",
    "import pandas as pd\n",
    "import statsmodels.api as sm\n",
    "import matplotlib.pyplot as plt\n",
    "from patsy import dmatrices\n",
    "from sklearn.linear_model import LogisticRegression\n",
    "from sklearn.cross_validation import train_test_split\n",
    "from sklearn import metrics\n",
    "from sklearn.cross_validation import cross_val_score\n",
    "from sklearn.svm import LinearSVC\n",
    "from sklearn import metrics"
   ]
  },
  {
   "cell_type": "code",
   "execution_count": 332,
   "metadata": {},
   "outputs": [
    {
     "data": {
      "text/html": [
       "<div>\n",
       "<table border=\"1\" class=\"dataframe\">\n",
       "  <thead>\n",
       "    <tr style=\"text-align: right;\">\n",
       "      <th></th>\n",
       "      <th>satisfacao</th>\n",
       "      <th>evaluacao</th>\n",
       "      <th>projetos</th>\n",
       "      <th>hrsmedia</th>\n",
       "      <th>tempogasto</th>\n",
       "      <th>acidentes</th>\n",
       "      <th>saiu</th>\n",
       "      <th>promocoes</th>\n",
       "      <th>setor</th>\n",
       "      <th>salario</th>\n",
       "    </tr>\n",
       "  </thead>\n",
       "  <tbody>\n",
       "    <tr>\n",
       "      <th>0</th>\n",
       "      <td>0.38</td>\n",
       "      <td>0.53</td>\n",
       "      <td>2</td>\n",
       "      <td>157</td>\n",
       "      <td>3</td>\n",
       "      <td>0</td>\n",
       "      <td>1</td>\n",
       "      <td>0</td>\n",
       "      <td>0</td>\n",
       "      <td>1</td>\n",
       "    </tr>\n",
       "    <tr>\n",
       "      <th>1</th>\n",
       "      <td>0.80</td>\n",
       "      <td>0.86</td>\n",
       "      <td>5</td>\n",
       "      <td>262</td>\n",
       "      <td>6</td>\n",
       "      <td>0</td>\n",
       "      <td>1</td>\n",
       "      <td>0</td>\n",
       "      <td>0</td>\n",
       "      <td>2</td>\n",
       "    </tr>\n",
       "    <tr>\n",
       "      <th>2</th>\n",
       "      <td>0.11</td>\n",
       "      <td>0.88</td>\n",
       "      <td>7</td>\n",
       "      <td>272</td>\n",
       "      <td>4</td>\n",
       "      <td>0</td>\n",
       "      <td>1</td>\n",
       "      <td>0</td>\n",
       "      <td>0</td>\n",
       "      <td>2</td>\n",
       "    </tr>\n",
       "    <tr>\n",
       "      <th>3</th>\n",
       "      <td>0.72</td>\n",
       "      <td>0.87</td>\n",
       "      <td>5</td>\n",
       "      <td>223</td>\n",
       "      <td>5</td>\n",
       "      <td>0</td>\n",
       "      <td>1</td>\n",
       "      <td>0</td>\n",
       "      <td>0</td>\n",
       "      <td>1</td>\n",
       "    </tr>\n",
       "    <tr>\n",
       "      <th>4</th>\n",
       "      <td>0.37</td>\n",
       "      <td>0.52</td>\n",
       "      <td>2</td>\n",
       "      <td>159</td>\n",
       "      <td>3</td>\n",
       "      <td>0</td>\n",
       "      <td>1</td>\n",
       "      <td>0</td>\n",
       "      <td>0</td>\n",
       "      <td>1</td>\n",
       "    </tr>\n",
       "  </tbody>\n",
       "</table>\n",
       "</div>"
      ],
      "text/plain": [
       "   satisfacao  evaluacao  projetos  hrsmedia  tempogasto  acidentes  saiu  \\\n",
       "0        0.38       0.53         2       157           3          0     1   \n",
       "1        0.80       0.86         5       262           6          0     1   \n",
       "2        0.11       0.88         7       272           4          0     1   \n",
       "3        0.72       0.87         5       223           5          0     1   \n",
       "4        0.37       0.52         2       159           3          0     1   \n",
       "\n",
       "   promocoes setor salario  \n",
       "0          0     0       1  \n",
       "1          0     0       2  \n",
       "2          0     0       2  \n",
       "3          0     0       1  \n",
       "4          0     0       1  "
      ]
     },
     "execution_count": 332,
     "metadata": {},
     "output_type": "execute_result"
    }
   ],
   "source": [
    "#importação do dataframe e renomeação das colunas\n",
    "\n",
    "data = pd.read_csv('dd1.csv',sep=',')\n",
    "data = data.rename(columns = {'satisfaction_level':'satisfacao'})\n",
    "data = data.rename(columns = {'last_evaluation':'evaluacao'}) \n",
    "data = data.rename(columns = {'number_project':'projetos'}) \n",
    "data = data.rename(columns = {'average_montly_hours':'hrsmedia'}) \n",
    "data = data.rename(columns = {'time_spend_company':'tempogasto'})\n",
    "data = data.rename(columns = {'left':'saiu'})\n",
    "data = data.rename(columns = {'promotion_last_5years':'promocoes'})\n",
    "data = data.rename(columns = {'sales':'setor'})\n",
    "data = data.rename(columns = {'salary':'salario'})\n",
    "data = data.rename(columns = {'Work_accident':'acidentes'})\n",
    "\n",
    "\n",
    "#trocando o data type da categoria salario para se adaptar a biblioteca sklearn\n",
    "data['salario'].astype(str)\n",
    "\n",
    "data.loc[(data.salario== 'low'), 'salario'] = 1\n",
    "data.loc[(data.salario== 'medium'), 'salario'] = 2\n",
    "data.loc[(data.salario== 'high'), 'salario'] = 3\n",
    "\n",
    "#trocando o data type da categoria setor para se adaptar a biblioteca sklearn\n",
    "data['setor'].astype(str)\n",
    "data.loc[(data.setor== 'sales'), 'setor'] = 0\n",
    "data.loc[(data.setor== 'accounting'), 'setor'] = 1\n",
    "data.loc[(data.setor== 'hr'), 'setor'] = 2\n",
    "data.loc[(data.setor== 'technical'), 'setor'] = 3\n",
    "data.loc[(data.setor== 'support'), 'setor'] = 4\n",
    "data.loc[(data.setor== 'management'), 'setor'] = 5\n",
    "data.loc[(data.setor== 'IT'), 'setor'] = 6\n",
    "data.loc[(data.setor== 'product_mng'), 'setor'] = 7\n",
    "data.loc[(data.setor== 'marketing'), 'setor'] = 8\n",
    "\n",
    "data.head()\n",
    "\n",
    "\n",
    "\n"
   ]
  },
  {
   "cell_type": "markdown",
   "metadata": {
    "collapsed": true
   },
   "source": [
    "Categorias: \n",
    "- Nível de Satisfação do Funcionário (satisfacao)\n",
    "- Avaliação do Funcionário (evaluacao)\n",
    "- Número de projetos do Funcionário (projetos)\n",
    "- Média de horas gastas no trabalho (hrsmedia)\n",
    "- Tempo gasto na empresa (tempogasto)\n",
    "- Teve (1) ou não (0) um acidente de trabalho (acidentes)\n",
    "- Teve (1) ou não (0) uma promoção nos últimos 5 anos (promocoes)\n",
    "- Departamento de trabalho do Funcionário (setor)\n",
    "(0) - Vendas  |  (1) - Contabilidade  |  (2) - RH  |  (3) - Técnico  |  (4) - Suporte  |  (5) - Diretoria  |  (6) - TI  |  (7) - Gerenciamento de Produto  |  (8) - Marketing\n",
    "- Salário do Funcionário (salario)\n",
    "(1) - baixo | (2) - médio | (3) - alto\n",
    "\n",
    "- Saiu (1) ou não (0) da empresa (saiu)"
   ]
  },
  {
   "cell_type": "code",
   "execution_count": 333,
   "metadata": {},
   "outputs": [
    {
     "name": "stdout",
     "output_type": "stream",
     "text": [
      "Index(['Intercept', 'C(acidentes)[T.1]', 'C(promocoes)[T.1]',\n",
      "       'C(salario)[T.2]', 'C(salario)[T.3]', 'C(setor)[T.1]', 'C(setor)[T.2]',\n",
      "       'C(setor)[T.3]', 'C(setor)[T.4]', 'C(setor)[T.5]', 'C(setor)[T.6]',\n",
      "       'C(setor)[T.7]', 'C(setor)[T.8]', 'C(setor)[T.RandD]', 'satisfacao',\n",
      "       'evaluacao', 'projetos', 'hrsmedia', 'tempogasto'],\n",
      "      dtype='object')\n"
     ]
    }
   ],
   "source": [
    "#variaveis setor e salario sao categoricas, por isso é necessario realizar essa adaptacao mostrada no tutorial\n",
    "\n",
    "y, X = dmatrices('saiu ~ satisfacao + evaluacao + projetos + hrsmedia + \\\n",
    "                  tempogasto + C(acidentes) + C(promocoes) + C(salario) + C(setor)',\n",
    "                  data, return_type=\"dataframe\")\n",
    "\n",
    "\n",
    "\n",
    "print (X.columns)"
   ]
  },
  {
   "cell_type": "code",
   "execution_count": 334,
   "metadata": {},
   "outputs": [],
   "source": [
    "# mudar o nome das colunas de X como mostrado no tutorial, apenas para ficar mais facil identificar\n",
    "X = X.rename(columns = {'C(setor)[T.1]':'vendas',\n",
    "                        'C(setor)[T.2]':'contabilidade',\n",
    "                        'C(setor)[T.3]':'RH',\n",
    "                        'C(setor)[T.4]':'tecnico',\n",
    "                        'C(setor)[T.5]':'suporte',\n",
    "                        'C(setor)[T.6]':'diretoria',\n",
    "                        'C(setor)[T.7]':'TI',\n",
    "                        'C(setor)[T.8]':'produto',\n",
    "                        'C(salario)[T.2]':'salario baixo',\n",
    "                        'C(salario)[T.3]':'salario medio',\n",
    "                        'C(acidentes)[T.1]':'acidentes',\n",
    "                        'C(promocoes)[T.1]':'promocoes'\n",
    "                       })"
   ]
  },
  {
   "cell_type": "code",
   "execution_count": 335,
   "metadata": {
    "collapsed": true
   },
   "outputs": [],
   "source": [
    "# metodo descrito pelo tutorial especifico dessa biblioteca e descrito como 'flatten y into a 1-D array'\n",
    "y = np.ravel(y)"
   ]
  },
  {
   "cell_type": "code",
   "execution_count": 336,
   "metadata": {},
   "outputs": [
    {
     "data": {
      "text/plain": [
       "0.79158610574038268"
      ]
     },
     "execution_count": 336,
     "metadata": {},
     "output_type": "execute_result"
    }
   ],
   "source": [
    "# atribuir a uma variável 'model' os parametros e coeficientes calculados a partir do comando 'Logistic Regression'\n",
    "model = LogisticRegression(penalty='l2', )\n",
    "model = model.fit(X, y)\n",
    "\n",
    "# checar a precisao do modelo com o comando 'score'\n",
    "model.score(X, y)"
   ]
  },
  {
   "cell_type": "code",
   "execution_count": 337,
   "metadata": {},
   "outputs": [
    {
     "data": {
      "text/plain": [
       "0.2380825388359224"
      ]
     },
     "execution_count": 337,
     "metadata": {},
     "output_type": "execute_result"
    }
   ],
   "source": [
    "# qual porcentagem real de funcionarios saiu da empresa\n",
    "y.mean()"
   ]
  },
  {
   "cell_type": "markdown",
   "metadata": {},
   "source": [
    "##### Precisão"
   ]
  },
  {
   "cell_type": "markdown",
   "metadata": {},
   "source": [
    "Foi obtida uma precisão de 79,15% com esse algoritmo que a princípio seria muito boa, uma vez que o objetivo principal é tentar prever quais funcionários sairão da empresa para evitar sua saída ou pelo menos se prevenir para esse possível evento.\n",
    "\n",
    "No entanto, ao se analisar a porcentagem real de funcionários que saíram da empresa, 23%, percebe-se que uma precisão de 77% teria sido atingida caso o algoritmo sempre previsse que o funcionário não iria sair. Assim, a precisão do progama não é muito maior do que a precisão obtida caso ele sempre rejeitasse a hipótese de o funcionário sairá da empresa. Tentaremos a seguir melhorar essa precisão a partir da retirada de certas variáveis."
   ]
  },
  {
   "cell_type": "markdown",
   "metadata": {},
   "source": [
    "##### Coeficientes"
   ]
  },
  {
   "cell_type": "code",
   "execution_count": 338,
   "metadata": {},
   "outputs": [
    {
     "data": {
      "text/html": [
       "<div>\n",
       "<table border=\"1\" class=\"dataframe\">\n",
       "  <thead>\n",
       "    <tr style=\"text-align: right;\">\n",
       "      <th></th>\n",
       "      <th>0</th>\n",
       "      <th>1</th>\n",
       "    </tr>\n",
       "  </thead>\n",
       "  <tbody>\n",
       "    <tr>\n",
       "      <th>0</th>\n",
       "      <td>Intercept</td>\n",
       "      <td>[0.19744678158]</td>\n",
       "    </tr>\n",
       "    <tr>\n",
       "      <th>1</th>\n",
       "      <td>acidentes</td>\n",
       "      <td>[-1.51995108815]</td>\n",
       "    </tr>\n",
       "    <tr>\n",
       "      <th>2</th>\n",
       "      <td>promocoes</td>\n",
       "      <td>[-1.17978480391]</td>\n",
       "    </tr>\n",
       "    <tr>\n",
       "      <th>3</th>\n",
       "      <td>salario baixo</td>\n",
       "      <td>[-0.526250226356]</td>\n",
       "    </tr>\n",
       "    <tr>\n",
       "      <th>4</th>\n",
       "      <td>salario medio</td>\n",
       "      <td>[-1.88508137238]</td>\n",
       "    </tr>\n",
       "    <tr>\n",
       "      <th>5</th>\n",
       "      <td>vendas</td>\n",
       "      <td>[0.0372154898282]</td>\n",
       "    </tr>\n",
       "    <tr>\n",
       "      <th>6</th>\n",
       "      <td>contabilidade</td>\n",
       "      <td>[0.27258953843]</td>\n",
       "    </tr>\n",
       "    <tr>\n",
       "      <th>7</th>\n",
       "      <td>RH</td>\n",
       "      <td>[0.105127234278]</td>\n",
       "    </tr>\n",
       "    <tr>\n",
       "      <th>8</th>\n",
       "      <td>tecnico</td>\n",
       "      <td>[0.0887136293211]</td>\n",
       "    </tr>\n",
       "    <tr>\n",
       "      <th>9</th>\n",
       "      <td>suporte</td>\n",
       "      <td>[-0.409211320196]</td>\n",
       "    </tr>\n",
       "    <tr>\n",
       "      <th>10</th>\n",
       "      <td>diretoria</td>\n",
       "      <td>[-0.141569617318]</td>\n",
       "    </tr>\n",
       "    <tr>\n",
       "      <th>11</th>\n",
       "      <td>TI</td>\n",
       "      <td>[-0.121127692987]</td>\n",
       "    </tr>\n",
       "    <tr>\n",
       "      <th>12</th>\n",
       "      <td>produto</td>\n",
       "      <td>[0.0150376949608]</td>\n",
       "    </tr>\n",
       "    <tr>\n",
       "      <th>13</th>\n",
       "      <td>C(setor)[T.RandD]</td>\n",
       "      <td>[-0.546447117178]</td>\n",
       "    </tr>\n",
       "    <tr>\n",
       "      <th>14</th>\n",
       "      <td>satisfacao</td>\n",
       "      <td>[-4.07837423524]</td>\n",
       "    </tr>\n",
       "    <tr>\n",
       "      <th>15</th>\n",
       "      <td>evaluacao</td>\n",
       "      <td>[0.728314381063]</td>\n",
       "    </tr>\n",
       "    <tr>\n",
       "      <th>16</th>\n",
       "      <td>projetos</td>\n",
       "      <td>[-0.310662777699]</td>\n",
       "    </tr>\n",
       "    <tr>\n",
       "      <th>17</th>\n",
       "      <td>hrsmedia</td>\n",
       "      <td>[0.0044270689775]</td>\n",
       "    </tr>\n",
       "    <tr>\n",
       "      <th>18</th>\n",
       "      <td>tempogasto</td>\n",
       "      <td>[0.265524117874]</td>\n",
       "    </tr>\n",
       "  </tbody>\n",
       "</table>\n",
       "</div>"
      ],
      "text/plain": [
       "                    0                  1\n",
       "0           Intercept    [0.19744678158]\n",
       "1           acidentes   [-1.51995108815]\n",
       "2           promocoes   [-1.17978480391]\n",
       "3       salario baixo  [-0.526250226356]\n",
       "4       salario medio   [-1.88508137238]\n",
       "5              vendas  [0.0372154898282]\n",
       "6       contabilidade    [0.27258953843]\n",
       "7                  RH   [0.105127234278]\n",
       "8             tecnico  [0.0887136293211]\n",
       "9             suporte  [-0.409211320196]\n",
       "10          diretoria  [-0.141569617318]\n",
       "11                 TI  [-0.121127692987]\n",
       "12            produto  [0.0150376949608]\n",
       "13  C(setor)[T.RandD]  [-0.546447117178]\n",
       "14         satisfacao   [-4.07837423524]\n",
       "15          evaluacao   [0.728314381063]\n",
       "16           projetos  [-0.310662777699]\n",
       "17           hrsmedia  [0.0044270689775]\n",
       "18         tempogasto   [0.265524117874]"
      ]
     },
     "execution_count": 338,
     "metadata": {},
     "output_type": "execute_result"
    }
   ],
   "source": [
    "# Checar os coeficientes entre sair da empresa (Y) e as outras variaveis (X)\n",
    "#negativo indica que quanto maior a variavel menor a chance de sair da empresa\n",
    "#se for positivo quanto menor um menor a chance do outro\n",
    "\n",
    "pd.DataFrame(list(zip(X.columns, np.transpose(model.coef_))))"
   ]
  },
  {
   "cell_type": "markdown",
   "metadata": {},
   "source": [
    "- Como é possível análisar pelos coeficientes, o setor de trabalho com menor chance de saida do funcionário é o de Suporte, já que ele apresenta um coeficiente negativo e com o maior módulo entre os setores.\n",
    "- Além disso, aumentos na satisfação e no número de projetos feitos correspondem a uma redução na probabilidade do empregado se demitir.\n",
    "- Pode-se também perceber que a ocorrência de um acidente ou promoção aumenta as chances do funcionário não sair da empresa.\n",
    "- Por fim, parece que as horas médias não tem uma influência considerável na variável Y e quanto maior o tempo gasto e a avaliação do funcionnário maior as chances dele sair da empresa.\n",
    "\n",
    "É importante notar que a classificação de um funcionário como provável de sair ou não depende do conjunto desses coeficientes, não apenas de cada um separado, então não há como confirmar ou rejeitar a hipótese apenas considerando uma variável."
   ]
  },
  {
   "cell_type": "markdown",
   "metadata": {},
   "source": [
    "##### Teste e treinamento"
   ]
  },
  {
   "cell_type": "markdown",
   "metadata": {},
   "source": [
    "Para verificar se a precisão do modelo está correta é preciso separar a base de dados em duas, uma de testes e uma de treinamento. Assim, será possível definir se a precisão anterior foi atingida porque o algoritmo realmente tem essa taxa de acerto ou porque ele foi testado com a mesma base de dados em que foi treinado."
   ]
  },
  {
   "cell_type": "code",
   "execution_count": 339,
   "metadata": {},
   "outputs": [
    {
     "data": {
      "text/plain": [
       "LogisticRegression(C=1.0, class_weight=None, dual=False, fit_intercept=True,\n",
       "          intercept_scaling=1, max_iter=100, multi_class='ovr', n_jobs=1,\n",
       "          penalty='l2', random_state=None, solver='liblinear', tol=0.0001,\n",
       "          verbose=0, warm_start=False)"
      ]
     },
     "execution_count": 339,
     "metadata": {},
     "output_type": "execute_result"
    }
   ],
   "source": [
    "# avaliar o modelo dividindo em bases de treinamento (train) e testes (test)\n",
    "\n",
    "X_train, X_test, y_train, y_test = train_test_split(X, y, test_size=0.3, random_state=0)\n",
    "\n",
    "model2 = LogisticRegression()\n",
    "model2.fit(X_train, y_train)\n",
    "\n"
   ]
  },
  {
   "cell_type": "code",
   "execution_count": 340,
   "metadata": {},
   "outputs": [
    {
     "name": "stdout",
     "output_type": "stream",
     "text": [
      "0.790888888889\n"
     ]
    }
   ],
   "source": [
    "# generate evaluation metrics\n",
    "print (metrics.accuracy_score(y_test, predicted))"
   ]
  },
  {
   "cell_type": "markdown",
   "metadata": {},
   "source": [
    "A precisão obtida divindindo o dataframe em teste e treinamento foi de 79%, que é quase igual a conseguida anteriormente. Portanto, a precisão geral anterior estava correta."
   ]
  },
  {
   "cell_type": "code",
   "execution_count": 341,
   "metadata": {},
   "outputs": [
    {
     "name": "stdout",
     "output_type": "stream",
     "text": [
      "[[3203  259]\n",
      " [ 682  356]]\n"
     ]
    }
   ],
   "source": [
    "# A função confusion_matrix() calcula a matriz de confusão e retorna o resultado como uma array\n",
    "predicted = model2.predict(X_test)\n",
    "print (metrics.confusion_matrix(y_test, predicted))\n"
   ]
  },
  {
   "cell_type": "markdown",
   "metadata": {},
   "source": [
    " O resultado mostra que há 3203 + 356 previsões corretas e 682 + 259 previsões incorretas"
   ]
  },
  {
   "cell_type": "code",
   "execution_count": 342,
   "metadata": {},
   "outputs": [
    {
     "name": "stdout",
     "output_type": "stream",
     "text": [
      "             precision    recall  f1-score   support\n",
      "\n",
      "        0.0       0.82      0.93      0.87      3462\n",
      "        1.0       0.58      0.34      0.43      1038\n",
      "\n",
      "avg / total       0.77      0.79      0.77      4500\n",
      "\n"
     ]
    }
   ],
   "source": [
    "probs = model2.predict_proba(X_test)\n",
    "print (metrics.classification_report(y_test, predicted))"
   ]
  },
  {
   "cell_type": "markdown",
   "metadata": {},
   "source": [
    "Precision:\n",
    "- Daqueles classificados como que vão sair, qual proporção realmente saiu?\n",
    "- Verdadeiro positivo / (Verdadeiro positivo + Falso positivo)\n",
    "\n",
    "Recall:\n",
    "- Daqueles que sairam de fato, qual proporção foi classificada como tal?\n",
    "- Verdadeiro positivo / (Verdadeiro positivo + Falso negativo)\n",
    "\n",
    "A precision seria um tipo de precisão do modelo, porém considerando apenas os dados previstos como positivos, ou seja, com o cliente tendo saido da empresa. O recall também seria um tipo de precisão, mas considerando apenas dados que são relevantes de alguma maneira. Resumindo, são duas medidas que indicam a qualidade de um modelo de classificação binária.\n",
    "\n",
    "O f1-score pode ser interpretado como uma média ponderada da precision e do recall, em que ele atinge seu melhor valor em 1 e o pior em 0.\n",
    "\n",
    "Interpretando os resultados, pode-se afirmar que do modelo inteiro, 77% dos previstos como que vão sair, sairam mesmo. E 79% dos que sairam de fato foram previstos pelo programa como que sairam. "
   ]
  },
  {
   "cell_type": "markdown",
   "metadata": {},
   "source": [
    "##### Uso Prático em um App"
   ]
  },
  {
   "cell_type": "markdown",
   "metadata": {
    "collapsed": true
   },
   "source": [
    "O software RH Analysis utiliza um algoritmo baseado em regressão logística para fazer balanceamento de demissão (do próprio ou pedido pela empresa) dos funcionários da empresa.\n",
    " \n",
    "O diretor de RH pode utilizar o software de duas maneiras mais intuitivas. \n",
    "\n",
    "- Análise Cirurgica\n",
    "\n",
    "Esse tipo de análise mostra para o diretor um modo de analisar individualmente cada funcionário e tem mais efetividade para resultados à curto prazo. Nesse modelo, o diretor completa os campos requisitados com as características do funcionário que estão descritas abaixo, e o software lhe retorna os dados da probabilidade deste deixar a empresa ou não, baseado nas características previamente preenchidas. \n",
    "\n",
    "Características Requisitadas:\n",
    "Nível de Satisfação do Funcionário\n",
    "Avaliação do Funcionário \n",
    "Número de projetos do Funcionário \n",
    "Média de horas gastas no trabalho \n",
    "Tempo gasto na empresa \n",
    "Teve ou não um acidente de trabalho \n",
    "Teve ou não uma promoção nos últimos 5 anos \n",
    "Departamento de trabalho do Funcionário \n",
    "Salário do Funcionário \n",
    "\n",
    "\n",
    "\n",
    "- Análise Geral\n",
    "\n",
    "Esse modelo requer que o diretor invista seu tempo primeiramente em uma base de dados. Essa base de dados deve conter, para cada um dos funcionários da empresa, cada uma das características colocadas acima, preenchidas. \n",
    "Uma vez que a base de dados está pronta, basta roda-lá no software RH Analisys e este irá varrer cada um dos funcionários utilizando os dados inseridos, e apurar a probabilidade de cada um deixar ou não a empresa. Consequentemente, o software analisa no ambito macroscópico a saída dos funcionários da empresa."
   ]
  },
  {
   "cell_type": "markdown",
   "metadata": {},
   "source": [
    "#### Exemplo da Análise cirurgica"
   ]
  },
  {
   "cell_type": "markdown",
   "metadata": {},
   "source": [
    "Para simular o algoritmo da análise cirurgica podemos prever a probabilidade de um funcionário especificado sair da empresa. Para isso, basta forncer ao programa as características importantes do funcionário.\n",
    "\n",
    "Dados: \n",
    "- Satisfação: 0.11\n",
    "- Evaluação: 0.71\n",
    "- Projetos: 2\n",
    "- Horas médias: 267\n",
    "- Tempo gasto: 5\n",
    "- Acidentes: 0\n",
    "- Promoções: 0\n",
    "- Setor: 0\n",
    "- Salário: 0\n"
   ]
  },
  {
   "cell_type": "code",
   "execution_count": 343,
   "metadata": {},
   "outputs": [
    {
     "name": "stderr",
     "output_type": "stream",
     "text": [
      "C:\\Users\\elijo\\Anaconda3\\lib\\site-packages\\sklearn\\utils\\validation.py:395: DeprecationWarning: Passing 1d arrays as data is deprecated in 0.17 and will raise ValueError in 0.19. Reshape your data either using X.reshape(-1, 1) if your data has a single feature or X.reshape(1, -1) if it contains a single sample.\n",
      "  DeprecationWarning)\n"
     ]
    },
    {
     "data": {
      "text/plain": [
       "array([[ 0.15906298,  0.84093702]])"
      ]
     },
     "execution_count": 343,
     "metadata": {},
     "output_type": "execute_result"
    }
   ],
   "source": [
    "model.predict_proba(np.array([0, 0, 0, 1, 0, 1, 0, 0, 0, 0, 0, 0, 0, 0, 0.11, 0.71, 2,\n",
    "                              267, 5]))"
   ]
  },
  {
   "cell_type": "markdown",
   "metadata": {},
   "source": [
    "Como é possível observar, a probabilidade do funcionário sair da empresa é de 84%, assim considerando o modelo binário do algoritmo, ele sairia da empresa. "
   ]
  },
  {
   "cell_type": "markdown",
   "metadata": {},
   "source": [
    "#### Observação sobre a Precisão:"
   ]
  },
  {
   "cell_type": "markdown",
   "metadata": {},
   "source": [
    "Um método que poderia ser utilizado para tentar melhorar a precisão do modelo seria mudar o valor do cutoff baseado na proporção entre o precision e recall, atingindo uma precisão melhor. No entanto, mesmo se esse valor ideal fosse encontrado, não seria possível aplica-lo eficientemente no algoritimo, já que pelo método usado (LogisticRegression()) ele não pode ser inserido ou modificado um parâmetro. Assim, só seria possível testar isso posteriormente pelo método predict, o que apenas daria a precisão do modelo sem fornecer quais funcionarios efetivamente sairiam ou não."
   ]
  },
  {
   "cell_type": "markdown",
   "metadata": {},
   "source": [
    "### Conclusão"
   ]
  },
  {
   "cell_type": "markdown",
   "metadata": {},
   "source": [
    "Então, apesar do modelo desenvolvido não estar muito preciso, ele poderia ser utilizado em um programa para prever superficialmente quais funcionários poderiam acabar saindo da empresa. Assim, mesmo errando muito, ele demonstra que é possível realizar um algoritmo de regressão logística para a saida de funcionários. Além disso, ele ajuda parcialmente a responder a pergunta, uma vez que ajuda o setor de RH a ter uma melhor ideia da causas da demissão própria de empregador e a se prevenir em caso de funcionário que acabe, efetivamente deixando a empresa. Portanto, é possível concluir que com o emprego de técnicas de aperfeiçoamento e o uso de outras bibliotecas de regressão do python, seria possível melhorar a precisão do algoritmo."
   ]
  },
  {
   "cell_type": "markdown",
   "metadata": {},
   "source": [
    "#### Divisão de trabalho:"
   ]
  },
  {
   "cell_type": "markdown",
   "metadata": {},
   "source": [
    "- Eli -  programação do algoritmo (com a ajuda de Pedro Greco para solucionar erros e dificuldades)\n",
    "\n",
    "- Pedro Greco -  Análises sobre o algoritmo e sobre os resultados encontrados e explicação de regressão logística (junto com Eduardo Vaz)\n",
    "\n",
    "- Eduardo Vaz -  Uso prático em um App e explicação de regressão logística (junto com Pedro Greco)"
   ]
  },
  {
   "cell_type": "markdown",
   "metadata": {},
   "source": [
    "obs: O GitHub não foi utilizados por todos, as mudanças e edições do trabalho foram enviadas entre os integrantes por WhatsApp. Por isso, o GitHub só foi usado para fazer o upload da edição final do notebook a cada check e não como ferramenta de compartilhamento de edição."
   ]
  },
  {
   "cell_type": "code",
   "execution_count": null,
   "metadata": {
    "collapsed": true
   },
   "outputs": [],
   "source": []
  }
 ],
 "metadata": {
  "kernelspec": {
   "display_name": "Python 3",
   "language": "python",
   "name": "python3"
  },
  "language_info": {
   "codemirror_mode": {
    "name": "ipython",
    "version": 3
   },
   "file_extension": ".py",
   "mimetype": "text/x-python",
   "name": "python",
   "nbconvert_exporter": "python",
   "pygments_lexer": "ipython3",
   "version": "3.6.0"
  }
 },
 "nbformat": 4,
 "nbformat_minor": 2
}
